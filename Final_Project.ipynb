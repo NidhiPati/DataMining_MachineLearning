{
 "cells": [
  {
   "cell_type": "code",
   "execution_count": 1,
   "metadata": {},
   "outputs": [
    {
     "name": "stdout",
     "output_type": "stream",
     "text": [
      "Collecting re\n",
      "Note: you may need to restart the kernel to use updated packages.\n"
     ]
    },
    {
     "name": "stderr",
     "output_type": "stream",
     "text": [
      "  ERROR: Could not find a version that satisfies the requirement re (from versions: none)\n",
      "ERROR: No matching distribution found for re\n"
     ]
    }
   ],
   "source": [
    "pip install re"
   ]
  },
  {
   "cell_type": "code",
   "execution_count": 2,
   "metadata": {},
   "outputs": [
    {
     "name": "stdout",
     "output_type": "stream",
     "text": [
      "Requirement already satisfied: textstat in c:\\users\\patin\\anaconda3\\lib\\site-packages (0.6.0)\n",
      "Requirement already satisfied: pyphen in c:\\users\\patin\\anaconda3\\lib\\site-packages (from textstat) (0.9.5)\n",
      "Note: you may need to restart the kernel to use updated packages.\n"
     ]
    }
   ],
   "source": [
    "pip install textstat"
   ]
  },
  {
   "cell_type": "code",
   "execution_count": 3,
   "metadata": {},
   "outputs": [
    {
     "name": "stdout",
     "output_type": "stream",
     "text": [
      "Requirement already satisfied: vaderSentiment in c:\\users\\patin\\anaconda3\\lib\\site-packages (3.3.1)\n",
      "Note: you may need to restart the kernel to use updated packages.\n"
     ]
    }
   ],
   "source": [
    "pip install vaderSentiment"
   ]
  },
  {
   "cell_type": "code",
   "execution_count": 4,
   "metadata": {},
   "outputs": [
    {
     "name": "stdout",
     "output_type": "stream",
     "text": [
      "Requirement already satisfied: nltk in c:\\users\\patin\\appdata\\roaming\\python\\python37\\site-packages (3.5)\n",
      "Requirement already satisfied: click in c:\\users\\patin\\anaconda3\\lib\\site-packages (from nltk) (7.0)\n",
      "Requirement already satisfied: joblib in c:\\users\\patin\\anaconda3\\lib\\site-packages (from nltk) (0.13.2)\n",
      "Requirement already satisfied: regex in c:\\users\\patin\\anaconda3\\lib\\site-packages (from nltk) (2020.4.4)\n",
      "Requirement already satisfied: tqdm in c:\\users\\patin\\anaconda3\\lib\\site-packages (from nltk) (4.32.1)\n",
      "Note: you may need to restart the kernel to use updated packages.\n"
     ]
    }
   ],
   "source": [
    "pip install nltk"
   ]
  },
  {
   "cell_type": "code",
   "execution_count": 5,
   "metadata": {},
   "outputs": [
    {
     "name": "stderr",
     "output_type": "stream",
     "text": [
      "[nltk_data] Downloading package averaged_perceptron_tagger to\n",
      "[nltk_data]     C:\\Users\\patin\\AppData\\Roaming\\nltk_data...\n",
      "[nltk_data]   Package averaged_perceptron_tagger is already up-to-\n",
      "[nltk_data]       date!\n"
     ]
    }
   ],
   "source": [
    "# importing libraries\n",
    "import numpy as np\n",
    "import pandas as pd\n",
    "import seaborn as sns\n",
    "import matplotlib.pyplot as plt\n",
    "import nltk\n",
    "nltk.download('averaged_perceptron_tagger')\n",
    "from nltk.stem import PorterStemmer\n",
    "from sklearn.feature_selection import SelectFromModel\n",
    "from sklearn.feature_extraction.text import TfidfVectorizer\n",
    "from sklearn.linear_model import LogisticRegression\n",
    "from sklearn.metrics import accuracy_score\n",
    "from sklearn import metrics\n",
    "from sklearn.metrics import classification_report\n",
    "from sklearn.model_selection import train_test_split\n",
    "from sklearn.model_selection import StratifiedKFold, GridSearchCV\n",
    "from sklearn.pipeline import Pipeline\n",
    "from sklearn.tree import DecisionTreeClassifier\n",
    "from textstat.textstat import *\n",
    "from vaderSentiment.vaderSentiment import SentimentIntensityAnalyzer as vaderSentiment"
   ]
  },
  {
   "cell_type": "code",
   "execution_count": 6,
   "metadata": {},
   "outputs": [],
   "source": [
    "# function to parse text (used regular expressions)\n",
    "def parsed_text(input_tweet):\n",
    "    regular_exp_url = ('http[s]?://(?:[a-zA-Z]|[0-9]|[$-_@.&+]|'\n",
    "                       '[!*\\(\\),]|(?:%[0-9a-fA-F][0-9a-fA-F]))+')\n",
    "    regular_exp_hash_tags = '@[\\w\\-]+'\n",
    "    tweet = re.sub('\\s+', ' ', input_tweet)\n",
    "    tweet = re.sub(regular_exp_url, '', tweet)\n",
    "    tweet = re.sub(regular_exp_hash_tags, '', tweet)\n",
    "    return tweet"
   ]
  },
  {
   "cell_type": "code",
   "execution_count": 7,
   "metadata": {},
   "outputs": [],
   "source": [
    "# function to tokenize tweet data\n",
    "def tokenize_tweet_data(tweet_data):\n",
    "    a = re.split(\"[^a-zA-Z]*\", tweet_data.lower())\n",
    "    tweet_data = \" \".join(a).strip()\n",
    "    stem = PorterStemmer()\n",
    "    x = tweet_data.split()\n",
    "    stem_tokens = [stem.stem(i) for i in x]\n",
    "    return stem_tokens"
   ]
  },
  {
   "cell_type": "code",
   "execution_count": 8,
   "metadata": {},
   "outputs": [],
   "source": [
    "# function to tokenize tweet using parts of speech\n",
    "def tokenize_tweet_pos(tweet):\n",
    "    a = re.split(\"[^a-zA-Z.,!?]*\", tweet.lower())\n",
    "    tweet = \" \".join(a).strip()\n",
    "    pos_tweet = tweet.split()\n",
    "    return pos_tweet"
   ]
  },
  {
   "cell_type": "code",
   "execution_count": 9,
   "metadata": {},
   "outputs": [],
   "source": [
    "# function to get the various counts\n",
    "def get_twitter_counts(input_text_string):\n",
    "    regular_exp_url = ('http[s]?://(?:[a-zA-Z]|[0-9]|[$-_@.&+]|'\n",
    "                       '[!*\\(\\),]|(?:%[0-9a-fA-F][0-9a-fA-F]))+')\n",
    "    ct_tweet = re.sub('\\s+', ' ', input_text_string)\n",
    "    ct_tweet = re.sub(regular_exp_url, 'URL', ct_tweet)\n",
    "    ct_tweet = re.sub('@[\\w\\-]+', 'MENTIONS', ct_tweet)\n",
    "    ct_tweet = re.sub('#[\\w\\-]+', 'HASH_TAGS', ct_tweet)\n",
    "    return ct_tweet.count('URL'), ct_tweet.count('MENTIONS'), ct_tweet.count('HASH_TAGS')"
   ]
  },
  {
   "cell_type": "code",
   "execution_count": 10,
   "metadata": {},
   "outputs": [],
   "source": [
    "# funtion to extract features (feature engineering part)\n",
    "def feature_extraction(tweet):\n",
    "    feeling = predict_sentiment.polarity_scores(tweet)\n",
    "\n",
    "    tokens_tweets = parsed_text(tweet)\n",
    "    char_length = sum(len(w) for w in tokens_tweets)\n",
    "    total_char_length = len(tweet)\n",
    "    splits = len(tweet.split())\n",
    "    word_count = len(tokens_tweets.split())\n",
    "    syllables = textstat.syllable_count(tokens_tweets)\n",
    "    a = (syllables + 0.001)\n",
    "    b = (word_count + 0.001)\n",
    "    syl_score = round(a / b, 4)\n",
    "    split_tokens = set(tokens_tweets.split())\n",
    "    unique_count = len(split_tokens)\n",
    "\n",
    "    twitter_counts = get_twitter_counts(tweet)\n",
    "    num_of_tweets_re_tweeted = 0\n",
    "    if \"rt\" in tokens_tweets:\n",
    "        num_of_tweets_re_tweeted = 1\n",
    "        \n",
    "# features        \n",
    "    f_ = [syllables, syl_score, char_length, total_char_length, splits, word_count, unique_count,\n",
    "          feeling['neg'], feeling['pos'], feeling['neu'], feeling['compound'], twitter_counts[2],\n",
    "          twitter_counts[1], twitter_counts[0], num_of_tweets_re_tweeted]\n",
    "    return f_"
   ]
  },
  {
   "cell_type": "code",
   "execution_count": 11,
   "metadata": {},
   "outputs": [],
   "source": [
    "def feature_vector(input_string):\n",
    "    features_ = []\n",
    "    for feature in input_string:\n",
    "        features_.append(feature_extraction(feature))\n",
    "    return np.array(features_)"
   ]
  },
  {
   "cell_type": "code",
   "execution_count": 12,
   "metadata": {},
   "outputs": [
    {
     "name": "stderr",
     "output_type": "stream",
     "text": [
      "C:\\Users\\patin\\Anaconda3\\lib\\site-packages\\sklearn\\feature_extraction\\text.py:300: UserWarning: Your stop_words may be inconsistent with your preprocessing. Tokenizing the stop words generated tokens ['b', 'c', 'e', 'f', 'g', 'h', 'j', 'l', 'n', 'p', 'r', 'u', 'v', 'w'] not in stop_words.\n",
      "  'stop_words.' % sorted(inconsistent))\n"
     ]
    }
   ],
   "source": [
    "#reading input csv\n",
    "df = pd.read_csv('labeled_data.csv')\n",
    "df.head()\n",
    "tweets = df.tweet\n",
    "# used nltk stopwords\n",
    "stopwords = nltk.corpus.stopwords.words(\"english\")\n",
    "# labeled data has RT (re-tweet)\n",
    "stopwords.extend([\"rt\"])  \n",
    "vector = TfidfVectorizer(tokenizer=tokenize_tweet_data, preprocessor=parsed_text, ngram_range=(1, 3),\n",
    "                             stop_words=stopwords, use_idf=True, smooth_idf=False, norm=None,\n",
    "                             decode_error='replace', max_features=10000, min_df=5, max_df=0.75)\n",
    "warnings.simplefilter(action='ignore', category=FutureWarning)\n",
    "score_tf_idf = vector.fit_transform(tweets).toarray()\n",
    "z = vector.get_feature_names()\n",
    "vocab = {v: j for j, v in enumerate(z)}\n",
    "value_idf = vector.idf_\n",
    "dict_ = {i: value_idf[i] for i in vocab.values()}\n",
    "tweet_tags = []\n",
    "for t in tweets:\n",
    "    tokens = tokenize_tweet_pos(parsed_text(t))\n",
    "    pos_tags = nltk.pos_tag(tokens)\n",
    "    pos_tag_list = [x[1] for x in pos_tags]\n",
    "    pos_tag_ = \" \".join(pos_tag_list)\n",
    "    tweet_tags.append(pos_tag_)\n",
    "pos_vector = TfidfVectorizer(tokenizer=None, lowercase=False, preprocessor=None, ngram_range=(1, 3),\n",
    "                                 stop_words=None, use_idf=False, smooth_idf=False, norm=None, decode_error='replace',\n",
    "                                 max_features=5000, min_df=5, max_df=0.75)\n",
    "pos_array = pos_vector.fit_transform(pd.Series(tweet_tags)).toarray()\n",
    "x = pos_vector.get_feature_names()\n",
    "vocab_pos = {v: i for i, v in enumerate(x)}\n",
    "predict_sentiment = vaderSentiment()\n",
    "features = feature_vector(tweets)\n",
    "join_ = np.concatenate([score_tf_idf, pos_array, features], axis=1)\n",
    "features_vector_ = [\"syllables\", \"syl_score\", \"char_length\", \"total_char_length\", \"splits\",\n",
    "                        \"word_count\", \"unique_count\", \"negative\", \"positive\", \"neutral\",\n",
    "                        \"compound\", \"hash_tag_count\", \"mention_count\", \"url_count\", \"re_tweets\"]\n",
    "factors_ = [''] * len(vocab)\n",
    "\n",
    "for key, value in vocab.items():\n",
    "    factors_[value] = key\n",
    "\n",
    "pos_factors = [''] * len(vocab_pos)\n",
    "\n",
    "for key, value in vocab_pos.items():\n",
    "    pos_factors[value] = key\n",
    "feature_names = factors_ + pos_factors + features_vector_\n",
    "\n",
    "X = pd.DataFrame(join_)\n",
    "Y = df['class'].astype(int)"
   ]
  },
  {
   "cell_type": "code",
   "execution_count": 13,
   "metadata": {},
   "outputs": [],
   "source": [
    "# funtion to generate the confusion matrix\n",
    "def generate_confusion_matrix(input_):\n",
    "    print(\"Confusion Matrix\")\n",
    "    size = np.zeros((3, 3))\n",
    "    for i in range(0, 3):\n",
    "        total = input_[i, :].sum()\n",
    "        size[i, :] = input_[i, :] / total\n",
    "    names = ['Hate', 'Offensive', 'Neither']\n",
    "    c_df = pd.DataFrame(size, index=names, columns=names)\n",
    "    plt.figure(figsize=(3, 3))\n",
    "    sns.heatmap(c_df, annot=True, annot_kws={\"size\": 12}, cmap='gist_gray_r', cbar=False, square=True, fmt='.2f')\n",
    "    plt.ylabel(r'True categories', fontsize=14)\n",
    "    plt.xlabel(r'Predicted categories', fontsize=14)\n",
    "    plt.tick_params(labelsize=12)"
   ]
  },
  {
   "cell_type": "code",
   "execution_count": 14,
   "metadata": {},
   "outputs": [
    {
     "name": "stdout",
     "output_type": "stream",
     "text": [
      "Fitting 5 folds for each of 1 candidates, totalling 5 fits\n",
      "[CV]  ................................................................\n"
     ]
    },
    {
     "name": "stderr",
     "output_type": "stream",
     "text": [
      "[Parallel(n_jobs=1)]: Using backend SequentialBackend with 1 concurrent workers.\n"
     ]
    },
    {
     "name": "stdout",
     "output_type": "stream",
     "text": [
      "[CV] ................................................. , total=   5.2s\n",
      "[CV]  ................................................................\n"
     ]
    },
    {
     "name": "stderr",
     "output_type": "stream",
     "text": [
      "[Parallel(n_jobs=1)]: Done   1 out of   1 | elapsed:    5.2s remaining:    0.0s\n"
     ]
    },
    {
     "name": "stdout",
     "output_type": "stream",
     "text": [
      "[CV] ................................................. , total=   5.6s\n",
      "[CV]  ................................................................\n",
      "[CV] ................................................. , total=   2.9s\n",
      "[CV]  ................................................................\n",
      "[CV] ................................................. , total=   4.1s\n",
      "[CV]  ................................................................\n",
      "[CV] ................................................. , total=   4.5s\n"
     ]
    },
    {
     "name": "stderr",
     "output_type": "stream",
     "text": [
      "[Parallel(n_jobs=1)]: Done   5 out of   5 | elapsed:   22.5s finished\n"
     ]
    },
    {
     "name": "stdout",
     "output_type": "stream",
     "text": [
      "Accuracy:  85.01849568434032\n",
      "              precision    recall  f1-score   support\n",
      "\n",
      "           0       0.39      0.08      0.13        90\n",
      "           1       0.88      0.95      0.91      1268\n",
      "           2       0.70      0.64      0.67       264\n",
      "\n",
      "    accuracy                           0.85      1622\n",
      "   macro avg       0.66      0.56      0.57      1622\n",
      "weighted avg       0.83      0.85      0.83      1622\n",
      "\n",
      "Confusion Matrix\n"
     ]
    },
    {
     "data": {
      "image/png": "[encoded data removed]",
      "text/plain": [
       "<Figure size 216x216 with 1 Axes>"
      ]
     },
     "metadata": {
      "needs_background": "light"
     },
     "output_type": "display_data"
    }
   ],
   "source": [
    "# Logistic Regression\n",
    "X_train, X_test, y_train, y_test = train_test_split(X, Y, random_state=100, test_size=0.1)\n",
    "# used K=5 fold\n",
    "logistic_ = Pipeline([('select', SelectFromModel(LogisticRegression(C=0.01, penalty='l1', solver='liblinear'))),\n",
    "                              ('model', LogisticRegression(C=1, penalty='l1', solver='liblinear'))])\n",
    "grid_ = GridSearchCV(logistic_, [{}], cv=StratifiedKFold(n_splits=5, random_state=42).split(X_train, y_train),\n",
    "                             verbose=2)\n",
    "model = grid_.fit(X_train, y_train)\n",
    "y_predictions = model.predict(X_test)\n",
    "\n",
    "# Accuracy\n",
    "print(\"Accuracy: \", accuracy_score(y_test, y_predictions) * 100)\n",
    "\n",
    "# Output Table\n",
    "output_table = classification_report(y_test, y_predictions)\n",
    "print(output_table)\n",
    "\n",
    "# Confusion Matrix\n",
    "c_matrix = metrics.confusion_matrix(y_test, y_predictions)\n",
    "generate_confusion_matrix(c_matrix)"
   ]
  },
  {
   "cell_type": "code",
   "execution_count": 15,
   "metadata": {},
   "outputs": [
    {
     "name": "stdout",
     "output_type": "stream",
     "text": [
      "Accuracy:  78.2367447595561\n",
      "              precision    recall  f1-score   support\n",
      "\n",
      "           0       0.17      0.19      0.18        90\n",
      "           1       0.88      0.86      0.87      1268\n",
      "           2       0.56      0.59      0.58       264\n",
      "\n",
      "    accuracy                           0.78      1622\n",
      "   macro avg       0.54      0.55      0.54      1622\n",
      "weighted avg       0.79      0.78      0.79      1622\n",
      "\n",
      "Confusion Matrix\n"
     ]
    },
    {
     "data": {
      "image/png": "[encoded data removed]",
      "text/plain": [
       "<Figure size 216x216 with 1 Axes>"
      ]
     },
     "metadata": {
      "needs_background": "light"
     },
     "output_type": "display_data"
    }
   ],
   "source": [
    "# Decision Tree\n",
    "decision_tree_entropy = DecisionTreeClassifier(criterion=\"entropy\")\n",
    "decision_tree_entropy.fit(X_train, y_train)\n",
    "y_prediction = decision_tree_entropy.predict(X_test)\n",
    "\n",
    "# Accuracy\n",
    "print(\"Accuracy: \", accuracy_score(y_test, y_prediction) * 100)\n",
    "\n",
    "# Output Table\n",
    "output_table = classification_report(y_test, y_prediction)\n",
    "print(output_table)\n",
    "\n",
    "# Confusion Matrix\n",
    "cm = metrics.confusion_matrix(y_test, y_prediction)\n",
    "generate_confusion_matrix(cm)"
   ]
  },
  {
   "cell_type": "code",
   "execution_count": 16,
   "metadata": {},
   "outputs": [],
   "source": [
    "## END OF CODE ##"
   ]
  }
 ],
 "metadata": {
  "kernelspec": {
   "display_name": "Python 3",
   "language": "python",
   "name": "python3"
  },
  "language_info": {
   "codemirror_mode": {
    "name": "ipython",
    "version": 3
   },
   "file_extension": ".py",
   "mimetype": "text/x-python",
   "name": "python",
   "nbconvert_exporter": "python",
   "pygments_lexer": "ipython3",
   "version": "3.7.3"
  }
 },
 "nbformat": 4,
 "nbformat_minor": 2
}
